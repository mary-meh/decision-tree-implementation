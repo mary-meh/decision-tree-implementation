{
 "cells": [
  {
   "cell_type": "code",
   "execution_count": null,
   "metadata": {},
   "outputs": [],
   "source": [
    "import pandas as pd\n",
    "import numpy as np\n",
    "import matplotlib.pyplot as plt\n",
    "import seaborn as sns\n",
    "import warnings\n",
    "warnings.filterwarnings(\"ignore\")   # подавляем предупреждения"
   ]
  },
  {
   "cell_type": "code",
   "execution_count": null,
   "metadata": {},
   "outputs": [],
   "source": [
    "# Считываем данные в указанные переменные train_data и test_data.\n",
    "train_data = pd.read_csv(\"train.csv\")\n",
    "test_data = pd.read_csv(\"test.csv\")"
   ]
  },
  {
   "cell_type": "code",
   "execution_count": null,
   "metadata": {},
   "outputs": [],
   "source": [
    "# Чтобы посмотреть на данные, достаточно ввести в ячейку название переменной, которая содержит датафрейм.\n",
    "\n",
    "train_data"
   ]
  },
  {
   "cell_type": "code",
   "execution_count": null,
   "metadata": {},
   "outputs": [],
   "source": [
    "test_data"
   ]
  },
  {
   "cell_type": "code",
   "execution_count": null,
   "metadata": {},
   "outputs": [],
   "source": [
    "all_data = pd.concat([train_data, test_data], ignore_index=True, sort=False)\n",
    "# all_data.drop('Survived', axis=1, inplace=True)\n",
    "\n",
    "all_data"
   ]
  },
  {
   "cell_type": "code",
   "execution_count": null,
   "metadata": {},
   "outputs": [],
   "source": [
    "# функция, определяющая соотношение пропущенных данных\n",
    "def check_missing_data(all_data):\n",
    "  missing_data = {}\n",
    "  for key in all_data.columns:\n",
    "      if all_data[key].isnull().sum() > 0:\n",
    "          missing_data[key] = (all_data[key].isnull().sum()  /  len(all_data[key])) * 100\n",
    "  return missing_data\n",
    "\n",
    "missing_data = check_missing_data(all_data)\n",
    "missing_data = pd.DataFrame(missing_data, index=['MissingValues']).T.sort_values(by='MissingValues',ascending=False)\n",
    "\n",
    "missing_data"
   ]
  },
  {
   "cell_type": "code",
   "execution_count": null,
   "metadata": {},
   "outputs": [],
   "source": [
    "# Cabin - плохой атрибут, выкидываем\n",
    "all_data.drop('Cabin',axis=1, inplace=True)"
   ]
  },
  {
   "cell_type": "code",
   "execution_count": null,
   "metadata": {},
   "outputs": [],
   "source": [
    "all_data"
   ]
  },
  {
   "cell_type": "code",
   "execution_count": null,
   "metadata": {},
   "outputs": [],
   "source": [
    "# зависимости атрибутов друг между другом\n",
    "# all_data.corr()"
   ]
  },
  {
   "cell_type": "code",
   "execution_count": null,
   "metadata": {},
   "outputs": [],
   "source": [
    "# можно также просмотреть взаимную корреляцию двух датафреймов или серий\n",
    "# all_data.corrwith(all_data)"
   ]
  },
  {
   "cell_type": "code",
   "execution_count": null,
   "metadata": {},
   "outputs": [],
   "source": [
    "# определяем сущности/сэмплы, для которых необходимо указать возраст (с учетом сильной зависимости возраста от класса)\n",
    "\n",
    "mask1 = (all_data.Pclass == 1) & (all_data.Age.isnull())\n",
    "mask2 = (all_data.Pclass == 2) & (all_data.Age.isnull())\n",
    "mask3 = (all_data.Pclass == 3) & (all_data.Age.isnull())"
   ]
  },
  {
   "cell_type": "code",
   "execution_count": null,
   "metadata": {},
   "outputs": [],
   "source": [
    "# в пустые значения атрибута \"Возраст\" помещаем значение, равное наиболее распространенному среди всех объектов данного Pclass'а\n",
    "\n",
    "all_data.loc[mask1, 'Age'] = all_data[all_data.Pclass == 1]['Age'].median()\n",
    "all_data.loc[mask2, 'Age'] = all_data[all_data.Pclass == 2]['Age'].median()\n",
    "all_data.loc[mask3, 'Age'] = all_data[all_data.Pclass == 3]['Age'].median()"
   ]
  },
  {
   "cell_type": "code",
   "execution_count": null,
   "metadata": {},
   "outputs": [],
   "source": [
    "all_data['Age'].isna().any()\n",
    "\n",
    "# np.False_ - круто!!"
   ]
  },
  {
   "cell_type": "code",
   "execution_count": null,
   "metadata": {},
   "outputs": [],
   "source": [
    "missing_data = check_missing_data(all_data)\n",
    "missing_data = pd.DataFrame(missing_data, index=['MissingValues']).T.sort_values(by='MissingValues',ascending=False)\n",
    "missing_data\n",
    "\n",
    "# Cabin выкинули, Age заполнили -> они пропали"
   ]
  },
  {
   "cell_type": "code",
   "execution_count": null,
   "metadata": {},
   "outputs": [],
   "source": [
    "all_data[all_data.Fare.isnull()]"
   ]
  },
  {
   "cell_type": "code",
   "execution_count": null,
   "metadata": {},
   "outputs": [],
   "source": [
    "all_data.Fare.fillna(all_data.Fare[all_data.Pclass == 3].median(), inplace=True)\n",
    "# nani\n",
    "\n",
    "# mask4 = all_data.Fare.isnull()\n",
    "\n",
    "# all_data.loc[mask4, 'Fare'] = all_data[all_data.Pclass == 3]['Fare'].median()"
   ]
  },
  {
   "cell_type": "code",
   "execution_count": null,
   "metadata": {},
   "outputs": [],
   "source": [
    "all_data[all_data.Fare.isnull()]"
   ]
  },
  {
   "cell_type": "code",
   "execution_count": null,
   "metadata": {},
   "outputs": [],
   "source": [
    "all_data['Embarked'].describe()\n",
    "all_data.Embarked.fillna('S', inplace=True)"
   ]
  },
  {
   "cell_type": "code",
   "execution_count": null,
   "metadata": {},
   "outputs": [],
   "source": [
    "all_data.Name.astype(\"category\")"
   ]
  },
  {
   "cell_type": "code",
   "execution_count": null,
   "metadata": {},
   "outputs": [],
   "source": [
    "# .cat.as_ordered() позволяет преобразовать категориальный признак в порядковый (задать порядок на множестве категорий этого признака)\n",
    "\n",
    "all_data.Name.astype(\"category\").cat.as_ordered()"
   ]
  },
  {
   "cell_type": "code",
   "execution_count": null,
   "metadata": {},
   "outputs": [],
   "source": [
    "# будем менять строчный тип на тип категории\n",
    "all_data_copy = all_data.copy()\n",
    "\n",
    "# конвертируем тип данных объектов в категориальный тип данных\n",
    "for key,value in all_data_copy.items():\n",
    "    if pd.api.types.is_string_dtype(value):\n",
    "        all_data_copy[key] = value.astype(\"category\").cat.as_ordered()"
   ]
  },
  {
   "cell_type": "code",
   "execution_count": null,
   "metadata": {},
   "outputs": [],
   "source": [
    "# заменяем категории на их код\n",
    "for key, value in all_data_copy.items():\n",
    "     if not pd.api.types.is_numeric_dtype(value):\n",
    "       all_data_copy[key] = pd.Categorical(value).codes + 1\n",
    "\n",
    "# если тип данных столбца не числовой, преобразуем его значения в категории и заменяем их на числовые коды категорий + 1"
   ]
  },
  {
   "cell_type": "code",
   "execution_count": null,
   "metadata": {},
   "outputs": [],
   "source": [
    "all_data_copy"
   ]
  },
  {
   "cell_type": "code",
   "execution_count": null,
   "metadata": {},
   "outputs": [],
   "source": [
    "all_data_copy.corr()"
   ]
  },
  {
   "cell_type": "code",
   "execution_count": null,
   "metadata": {},
   "outputs": [],
   "source": [
    "#получаем число уникальных значений для каждого столбца\n",
    "for column in all_data:\n",
    "    print(column + '\\t\\t', len(all_data[column].unique()))"
   ]
  },
  {
   "cell_type": "code",
   "execution_count": null,
   "metadata": {},
   "outputs": [],
   "source": [
    "# удалим PassengerId, в нем нет смысла\n",
    "\n",
    "all_data.drop('PassengerId', axis=1, inplace=True)"
   ]
  },
  {
   "cell_type": "code",
   "execution_count": null,
   "metadata": {},
   "outputs": [],
   "source": [
    "# делаем все строки для имен в нижнем регистре\n",
    "for col in all_data.columns:\n",
    "    if pd.api.types.is_string_dtype(all_data[col]):\n",
    "        all_data[col] = all_data[col].str.lower()"
   ]
  },
  {
   "cell_type": "code",
   "execution_count": null,
   "metadata": {},
   "outputs": [],
   "source": [
    "all_data['Name']"
   ]
  },
  {
   "cell_type": "code",
   "execution_count": null,
   "metadata": {},
   "outputs": [],
   "source": [
    "# получаем префиксы имен с помощью применения лямбда-функции (чины людей) и функции apply\n",
    "def some_func(x):\n",
    "  return x[x.find(', ') + len(', ') : x.rfind('.')]\n",
    "\n",
    "all_data['Name_Prefix'] = all_data['Name'].apply(some_func)\n",
    "\n",
    "all_data['Name_Prefix'] = all_data['Name'].apply(lambda x: x[x.find(', ')+len(', '):x.rfind('.')])"
   ]
  },
  {
   "cell_type": "code",
   "execution_count": null,
   "metadata": {},
   "outputs": [],
   "source": [
    "all_data"
   ]
  },
  {
   "cell_type": "code",
   "execution_count": null,
   "metadata": {},
   "outputs": [],
   "source": [
    "all_data['Name_Prefix'].unique()"
   ]
  },
  {
   "cell_type": "code",
   "execution_count": null,
   "metadata": {},
   "outputs": [],
   "source": [
    "all_data[all_data.Name_Prefix == 'mrs. martin (elizabeth l']"
   ]
  },
  {
   "cell_type": "code",
   "execution_count": null,
   "metadata": {},
   "outputs": [],
   "source": [
    "# корректируем введенные данные с помощью replace\n",
    "\n",
    "all_data['Name_Prefix'] = all_data['Name_Prefix'].replace(\"mrs. martin (elizabeth l\",\"mrs\")\n",
    "\n",
    "all_data['Name_Prefix'] = all_data['Name_Prefix'].replace(\"mlle\",\"miss\")    # с французского на английский\n",
    "all_data['Name_Prefix'] = all_data['Name_Prefix'].replace(\"mme\",\"mrs\")   \n",
    "\n",
    "all_data['Name_Prefix'] = all_data['Name_Prefix'].replace(\"don\",\"sir\")      # с испанского на английский\n",
    "all_data['Name_Prefix'] = all_data['Name_Prefix'].replace(\"dona\",\"mrs\") "
   ]
  },
  {
   "cell_type": "code",
   "execution_count": null,
   "metadata": {},
   "outputs": [],
   "source": [
    "all_data['Name_Prefix'].unique()"
   ]
  },
  {
   "cell_type": "code",
   "execution_count": null,
   "metadata": {},
   "outputs": [],
   "source": [
    "# количество уникальных фамилий\n",
    "len((all_data[\"Name\"].str.split(\",\").str.get(0)).unique())"
   ]
  },
  {
   "cell_type": "code",
   "execution_count": null,
   "metadata": {},
   "outputs": [],
   "source": [
    "# разделяем по запятой и берем первую половину, которая по идее содержит фамилию\n",
    "all_data['Lastname'] = all_data[\"Name\"].str.split(\",\").str.get(0)"
   ]
  },
  {
   "cell_type": "code",
   "execution_count": null,
   "metadata": {},
   "outputs": [],
   "source": [
    "all_data"
   ]
  },
  {
   "cell_type": "code",
   "execution_count": null,
   "metadata": {},
   "outputs": [],
   "source": [
    "all_data.drop('Name', axis=1, inplace=True)"
   ]
  },
  {
   "cell_type": "code",
   "execution_count": null,
   "metadata": {},
   "outputs": [],
   "source": [
    "all_data.Ticket"
   ]
  },
  {
   "cell_type": "code",
   "execution_count": null,
   "metadata": {},
   "outputs": [],
   "source": [
    "# разделяем значение билета по пробелу и образуем из них два отдельных столбца с данными\n",
    "all_data['TicketPre'] = all_data.Ticket.apply(lambda x: x.split(' ')[0] if x.isdigit()==False else 'NoPre')\n",
    "all_data['TicketNum'] = all_data.Ticket.apply(lambda x: x.split(' ')[-1] if x.isdigit()==False else x)"
   ]
  },
  {
   "cell_type": "code",
   "execution_count": null,
   "metadata": {},
   "outputs": [],
   "source": [
    "all_data"
   ]
  },
  {
   "cell_type": "code",
   "execution_count": null,
   "metadata": {},
   "outputs": [],
   "source": [
    "all_data['TicketPre'].unique()"
   ]
  },
  {
   "cell_type": "code",
   "execution_count": null,
   "metadata": {},
   "outputs": [],
   "source": [
    "# получаем значения билетов с одинаковыми префиксами\n",
    "all_data[['TicketPre','TicketNum']][(all_data.TicketPre=='ston/o2.')|\n",
    "                                    (all_data.TicketPre=='soton/o2')\n",
    "                                   ].sort_values(by='TicketNum').head(10)"
   ]
  },
  {
   "cell_type": "code",
   "execution_count": null,
   "metadata": {},
   "outputs": [],
   "source": [
    "# убираем точки и слэши из префиксов\n",
    "reps = {'.' : '', '/':''}\n",
    "\n",
    "# .str — доступ к методам строковой обработки pandas\n",
    "all_data.TicketPre = all_data.TicketPre.str.translate(str.maketrans(reps))\n",
    "\n",
    "all_data['TicketPre'] = all_data['TicketPre'].replace(\"sotono2\",\"stono2\") \n",
    "all_data['TicketPre'] = all_data['TicketPre'].replace(\"sotonoq\",\"stonoq\") "
   ]
  },
  {
   "cell_type": "code",
   "execution_count": null,
   "metadata": {},
   "outputs": [],
   "source": [
    "all_data.TicketNum.sort_values()"
   ]
  },
  {
   "cell_type": "code",
   "execution_count": null,
   "metadata": {},
   "outputs": [],
   "source": [
    "# смотрим, у кого неправильно введен номер билета \n",
    "all_data[all_data['TicketNum']=='line']"
   ]
  },
  {
   "cell_type": "code",
   "execution_count": null,
   "metadata": {},
   "outputs": [],
   "source": [
    "# смотрим, у кого неправильно введен номер билета с учетом фамилии\n",
    "all_data[['TicketNum','Lastname']][(all_data.Lastname=='johnson')]"
   ]
  },
  {
   "cell_type": "code",
   "execution_count": null,
   "metadata": {},
   "outputs": [],
   "source": [
    "# заменяем line на наиболее часто встречающееся значение\n",
    "all_data.TicketNum = all_data.TicketNum.replace('line', 347742)"
   ]
  },
  {
   "cell_type": "code",
   "execution_count": null,
   "metadata": {},
   "outputs": [],
   "source": [
    "all_data.TicketNum = all_data.TicketNum.astype(int)"
   ]
  },
  {
   "cell_type": "code",
   "execution_count": null,
   "metadata": {},
   "outputs": [],
   "source": [
    "# смотрим на количество уникальных номеров билетов\n",
    "len(all_data.TicketNum.unique())"
   ]
  },
  {
   "cell_type": "code",
   "execution_count": null,
   "metadata": {},
   "outputs": [],
   "source": [
    "# будем хранить в словаре первое значение каждой последовательности в качестве ключа и генератор последовательности в качестве значения\n",
    "# (то есть что-то типа {head : range(FirstNum, LastNum)})\n",
    "\n",
    "s, head = {}, None\n",
    "for x in sorted(all_data['TicketNum']):\n",
    "    # x != s[head].stop - проверяет, является ли текущее значение x следующим после последнего значения текущего диапазона\n",
    "    # s[head].stop - следующее число за последним в диапазоне\n",
    "    if head is None or x != s[head].stop:\n",
    "        head = x\n",
    "    s[head] = range(head, x + 1) # обновление диапазона"
   ]
  },
  {
   "cell_type": "code",
   "execution_count": null,
   "metadata": {},
   "outputs": [],
   "source": [
    "# делаем функцию, которая для конкретного билета возвращает первое число последовательности (то есть ключ для словаря)\n",
    "def get_head(ticketNum):\n",
    "    for head, range in s.items():\n",
    "        if ticketNum in range:\n",
    "            x = head   \n",
    "    return x"
   ]
  },
  {
   "cell_type": "code",
   "execution_count": null,
   "metadata": {},
   "outputs": [],
   "source": [
    "# заменяем в общем дата-фрейме\n",
    "all_data['TicketNum_Groups'] = all_data['TicketNum'].apply(lambda x: get_head(x))\n",
    "len(all_data['TicketNum_Groups'].unique())"
   ]
  },
  {
   "cell_type": "code",
   "execution_count": null,
   "metadata": {},
   "outputs": [],
   "source": [
    "# заменяем тип данных, как говорилось ранее\n",
    "all_data['TicketNum_Groups'] = all_data['TicketNum_Groups'].astype(object)"
   ]
  },
  {
   "cell_type": "code",
   "execution_count": null,
   "metadata": {},
   "outputs": [],
   "source": [
    "all_data"
   ]
  },
  {
   "cell_type": "code",
   "execution_count": null,
   "metadata": {},
   "outputs": [],
   "source": [
    "# удаляем столбцы, которые стали ненужными \n",
    "all_data.drop('Ticket', axis=1,inplace=True)\n",
    "all_data.drop('TicketNum', axis=1,inplace=True)"
   ]
  },
  {
   "cell_type": "code",
   "execution_count": null,
   "metadata": {},
   "outputs": [],
   "source": [
    "all_data"
   ]
  },
  {
   "cell_type": "code",
   "execution_count": null,
   "metadata": {},
   "outputs": [],
   "source": [
    "# смотрим на корелляцию с целевой переменной (только для строк, целевой признак которых нам уже известен)\n",
    "train_data['PassengerId'].count()   # считаем, сколько у нас таких строк"
   ]
  },
  {
   "cell_type": "code",
   "execution_count": null,
   "metadata": {},
   "outputs": [],
   "source": [
    "# корреляция между целевыми признаком и остальными\n",
    "# all_data[:891].corrwith(train_data['Survived']).sort_values(ascending=False)"
   ]
  },
  {
   "cell_type": "code",
   "execution_count": null,
   "metadata": {},
   "outputs": [],
   "source": [
    "# новый признак для удобства (в силу схожести смысла признаков SibSp и Parch)\n",
    "all_data['Relatives'] = all_data['SibSp'] + all_data['Parch']"
   ]
  },
  {
   "cell_type": "code",
   "execution_count": null,
   "metadata": {},
   "outputs": [],
   "source": [
    "all_data"
   ]
  },
  {
   "cell_type": "code",
   "execution_count": null,
   "metadata": {},
   "outputs": [],
   "source": [
    "all_data['Age'].hist()"
   ]
  },
  {
   "cell_type": "code",
   "execution_count": null,
   "metadata": {},
   "outputs": [],
   "source": [
    "all_data['Sex'].hist()"
   ]
  },
  {
   "cell_type": "code",
   "execution_count": null,
   "metadata": {},
   "outputs": [],
   "source": [
    "# all_data.groupby(['Sex', 'Pclass']).median()"
   ]
  },
  {
   "cell_type": "code",
   "execution_count": null,
   "metadata": {},
   "outputs": [],
   "source": [
    "# all_data.groupby('Age').get_group(24)"
   ]
  },
  {
   "cell_type": "code",
   "execution_count": null,
   "metadata": {},
   "outputs": [],
   "source": [
    "all_data"
   ]
  },
  {
   "cell_type": "code",
   "execution_count": null,
   "metadata": {},
   "outputs": [],
   "source": [
    "# Построим распределение людей по возрасту\n",
    "plt.figure(figsize=(8, 4))\n",
    "plt.hist(all_data['Age'], label=\"Age\")\n",
    "plt.legend()\n",
    "plt.show()"
   ]
  },
  {
   "cell_type": "code",
   "execution_count": null,
   "metadata": {},
   "outputs": [],
   "source": [
    "plt.figure(figsize=(8, 4))\n",
    "sns.lineplot(x=all_data['Age'], y=all_data['Fare'])     # выдавал ошибку из-за отсутствия x=..., y=..."
   ]
  },
  {
   "cell_type": "code",
   "execution_count": null,
   "metadata": {},
   "outputs": [],
   "source": [
    "# plt.figure(figsize=(12, 6))\n",
    "# sns.heatmap(all_data.corr(), annot=True, cmap='Greens')"
   ]
  },
  {
   "cell_type": "code",
   "execution_count": null,
   "metadata": {},
   "outputs": [],
   "source": [
    "all_data = all_data.dropna()"
   ]
  },
  {
   "cell_type": "code",
   "execution_count": null,
   "metadata": {},
   "outputs": [],
   "source": [
    "all_data"
   ]
  },
  {
   "cell_type": "code",
   "execution_count": null,
   "metadata": {},
   "outputs": [],
   "source": [
    "# кодируем строковые символы\n",
    "\n",
    "all_data['Sex'] = pd.factorize(all_data['Sex'])[0]\n",
    "all_data['Embarked'] = pd.factorize(all_data['Embarked'])[0]\n",
    "all_data['Name_Prefix'] = pd.factorize(all_data['Name_Prefix'])[0]\n",
    "all_data['TicketPre'] = pd.factorize(all_data['TicketPre'])[0]\n",
    "all_data['TicketNum_Groups'] = pd.factorize(all_data['TicketNum_Groups'])[0]\n",
    "all_data['Lastname'] = pd.factorize(all_data['Lastname'])[0]\n",
    "# all_data['Survived'] = all_data['Survived'].astype('int')"
   ]
  },
  {
   "cell_type": "code",
   "execution_count": null,
   "metadata": {},
   "outputs": [],
   "source": [
    "# целевой признак в отдельную переменную, убираем из данных, на которых будем обучать\n",
    "\n",
    "y = all_data['Survived']\n",
    "all_data.drop(['Survived'], axis=1, inplace=True)"
   ]
  },
  {
   "cell_type": "code",
   "execution_count": null,
   "metadata": {},
   "outputs": [],
   "source": [
    "all_data"
   ]
  },
  {
   "cell_type": "code",
   "execution_count": null,
   "metadata": {},
   "outputs": [],
   "source": [
    "y"
   ]
  },
  {
   "cell_type": "code",
   "execution_count": null,
   "metadata": {},
   "outputs": [],
   "source": [
    "from sklearn.model_selection import train_test_split, StratifiedKFold\n",
    "from sklearn.tree import DecisionTreeClassifier\n",
    "from sklearn.neighbors import KNeighborsClassifier\n",
    "from sklearn.tree import export_graphviz\n",
    "from sklearn import tree\n",
    "\n",
    "\n",
    "# x - признаки, y - целевая переменная\n",
    "# train_test_split - разделяем данные на тренировочную и тестовую выборки\n",
    "X_train, X_holdout, y_train, y_holdout = train_test_split(all_data.values, y, test_size=0.3, random_state=17)\n",
    "\n",
    "\n",
    "clf = DecisionTreeClassifier(max_depth=5, random_state=17)\n",
    "# knn = KNeighborsClassifier(n_neighbors=10)\n",
    "clf.fit(X_train, y_train)\n",
    "# knn.fit(X_train, y_train)\n"
   ]
  },
  {
   "cell_type": "code",
   "execution_count": null,
   "metadata": {},
   "outputs": [],
   "source": [
    "all_data"
   ]
  },
  {
   "cell_type": "code",
   "execution_count": null,
   "metadata": {},
   "outputs": [],
   "source": [
    "plt.figure(figsize=(50, 20))\n",
    "# tree.plot_tree(clf, feature_names=X_holdout.feature_names, class_names=y_holdout.target_names, filled=True)\n",
    "tree.plot_tree(clf, feature_names=all_data.columns, class_names=['Not survived', 'Survived'], filled=True)\n",
    "\n",
    "plt.show()"
   ]
  },
  {
   "cell_type": "code",
   "execution_count": null,
   "metadata": {},
   "outputs": [],
   "source": [
    "plt.figure(figsize=(12, 8))\n",
    "tree.plot_tree(clf, feature_names=X_holdout.feature_names, class_names=y_holdout.target_names, filled=True)\n",
    "\n",
    "plt.show()"
   ]
  },
  {
   "cell_type": "code",
   "execution_count": null,
   "metadata": {},
   "outputs": [],
   "source": [
    "from sklearn.metrics import accuracy_score\n",
    "\n",
    "tree_pred = tree.predict(X_holdout)\n",
    "accuracy_score(y_holdout, tree_pred) # 0.77"
   ]
  },
  {
   "cell_type": "code",
   "execution_count": null,
   "metadata": {},
   "outputs": [],
   "source": [
    "knn_pred = knn.predict(X_holdout)\n",
    "accuracy_score(y_holdout, knn_pred) # 0.65"
   ]
  },
  {
   "cell_type": "code",
   "execution_count": null,
   "metadata": {},
   "outputs": [],
   "source": [
    "from sklearn import tree\n",
    "import matplotlib.pyplot as plt\n",
    "\n",
    "\n",
    "# X_train, X_holdout, y_train, y_holdout = train_test_split(all_data.values, y, test_size=0.3, random_state=17)\n",
    "\n",
    "X, y = all_data.data, all_data.target\n",
    "clf = DecisionTreeClassifier()\n",
    "clf.fit(X, y)\n",
    "\n",
    "plt.figure(figsize=(15, 10))\n",
    "tree.plot_tree(clf, feature_names=all_data.feature_names, class_names=all_data.target_names, filled=True)\n",
    "plt.show()"
   ]
  },
  {
   "cell_type": "code",
   "execution_count": null,
   "metadata": {},
   "outputs": [],
   "source": []
  }
 ],
 "metadata": {
  "kernelspec": {
   "display_name": ".venv",
   "language": "python",
   "name": "python3"
  },
  "language_info": {
   "codemirror_mode": {
    "name": "ipython",
    "version": 3
   },
   "file_extension": ".py",
   "mimetype": "text/x-python",
   "name": "python",
   "nbconvert_exporter": "python",
   "pygments_lexer": "ipython3",
   "version": "3.11.3"
  }
 },
 "nbformat": 4,
 "nbformat_minor": 2
}
